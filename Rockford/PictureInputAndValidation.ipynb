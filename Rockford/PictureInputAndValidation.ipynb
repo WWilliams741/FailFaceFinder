{
 "cells": [
  {
   "cell_type": "code",
   "execution_count": null,
   "metadata": {},
   "outputs": [],
   "source": [
    "from tkinter import messagebox, filedialog, Button, Tk\n",
    "import imghdr\n",
    "\n",
    "root = Tk()\n",
    "root.withdraw()\n",
    "file = filedialog.askopenfile(parent=root, mode='rb', title='Choose a file')\n",
    "\n",
    "if imghdr.what(file) == 'png' or imghdr.what(file) == 'jpeg':\n",
    "    data = file.read()\n",
    "    file.close()\n",
    "    print(\"File chosen matches requirement: .png or .jpeg\")\n",
    "    print(\"I got %d bytes from this file.\" % len(data))\n",
    "    #print(data)\n",
    "else:\n",
    "    print(\"File chosen does not match requirement: .png or .jpeg\")\n",
    "root.destroy()\n",
    "\n",
    "top = Tk()\n",
    "\n",
    "def closeWindow():\n",
    "    top.destroy()\n",
    "\n",
    "B = Button(top, text =\"Done\", command = closeWindow)\n",
    "\n",
    "B.pack()\n",
    "top.mainloop()"
   ]
  },
  {
   "cell_type": "code",
   "execution_count": 1,
   "metadata": {},
   "outputs": [
    {
     "name": "stderr",
     "output_type": "stream",
     "text": [
      "[NbConvertApp] Converting notebook PictureInputAndValidation.ipynb to script\n",
      "[NbConvertApp] Writing 811 bytes to PictureInputAndValidation.py\n"
     ]
    }
   ],
   "source": [
    "#This converts Notebook file into generic python file\n",
    "!jupyter nbconvert --to script PictureInputAndValidation.ipynb"
   ]
  },
  {
   "cell_type": "code",
   "execution_count": null,
   "metadata": {},
   "outputs": [],
   "source": []
  }
 ],
 "metadata": {
  "kernelspec": {
   "display_name": "Python 3",
   "language": "python",
   "name": "python3"
  },
  "language_info": {
   "codemirror_mode": {
    "name": "ipython",
    "version": 3
   },
   "file_extension": ".py",
   "mimetype": "text/x-python",
   "name": "python",
   "nbconvert_exporter": "python",
   "pygments_lexer": "ipython3",
   "version": "3.6.5"
  }
 },
 "nbformat": 4,
 "nbformat_minor": 2
}
